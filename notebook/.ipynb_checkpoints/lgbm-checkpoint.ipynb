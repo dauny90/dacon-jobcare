{
 "cells": [
  {
   "cell_type": "code",
   "execution_count": null,
   "id": "bd370018-927e-4f70-b729-9c9905e251b6",
   "metadata": {},
   "outputs": [],
   "source": [
    "#pip install pandas-profiling"
   ]
  },
  {
   "cell_type": "code",
   "execution_count": null,
   "id": "54beff8f-788b-47d0-91d9-fbd3372f3f69",
   "metadata": {},
   "outputs": [],
   "source": [
    "#pip install -r ../requirements.txt"
   ]
  },
  {
   "cell_type": "code",
   "execution_count": 55,
   "id": "ee79350a-1f09-43c7-9193-56fbc75b9796",
   "metadata": {},
   "outputs": [],
   "source": [
    "import pandas as pd\n",
    "from lightgbm import LGBMClassifier\n",
    "import numpy as np\n",
    "from sklearn.model_selection import KFold,GridSearchCV,train_test_split,StratifiedKFold\n",
    "import matplotlib.pyplot as plt\n",
    "import lightgbm as lgbm\n",
    "import optuna\n",
    "from sklearn.metrics import log_loss,f1_score"
   ]
  },
  {
   "cell_type": "code",
   "execution_count": 47,
   "id": "dea2cf8d-35e3-4157-845b-4079d624ff5d",
   "metadata": {},
   "outputs": [],
   "source": [
    "#from pandas_profiling import ProfileReport\n",
    "\n",
    "#profile_train = ProfileReport(train, title=\"Pandas Profiling Report\")\n",
    "#profile_test = ProfileReport(test, title=\"Pandas Profiling Report\")\n",
    "\n",
    "#profile_train.to_file(\"train.html\")\n",
    "#profile_test.to_file(\"test.html\")"
   ]
  },
  {
   "cell_type": "code",
   "execution_count": 56,
   "id": "53c863cb-880a-45a7-9880-f323e2b78fc3",
   "metadata": {},
   "outputs": [],
   "source": [
    "train = pd.read_csv('../data/train.csv')\n",
    "test = pd.read_csv('../data/test.csv')\n",
    "sample = pd.read_csv('../data/sample_submission.csv')"
   ]
  },
  {
   "cell_type": "code",
   "execution_count": 43,
   "id": "6c012041-aae8-4537-99ee-dd709772966f",
   "metadata": {},
   "outputs": [],
   "source": [
    "for column in train.select_dtypes(include='bool').columns:\n",
    "    train[column] = train[column].astype(int)\n",
    "    \n",
    "for column in test.select_dtypes(include='bool').columns:\n",
    "    test[column] = test[column].astype(int)"
   ]
  },
  {
   "cell_type": "code",
   "execution_count": 58,
   "id": "91e543a2-6516-43dd-ac5d-7f466cb1d478",
   "metadata": {},
   "outputs": [],
   "source": [
    "train['contents_open_dt'] = pd.to_datetime(train['contents_open_dt'])\n",
    "test['contents_open_dt'] = pd.to_datetime(test['contents_open_dt'])\n",
    "\n",
    "train.sort_values(by='contents_open_dt',inplace=True)"
   ]
  },
  {
   "cell_type": "code",
   "execution_count": 59,
   "id": "ff8b89be-4415-431b-b49e-99e2e33710cc",
   "metadata": {},
   "outputs": [],
   "source": [
    "for df in [train,test]:\n",
    "    df['dia'] = pd.DatetimeIndex(df['contents_open_dt']).day\n",
    "    df['hora'] = pd.DatetimeIndex(df['contents_open_dt']).hour\n",
    "    df['dayofweek'] = df['contents_open_dt'].dt.dayofweek"
   ]
  },
  {
   "cell_type": "code",
   "execution_count": 60,
   "id": "261c665b-9532-453b-a5f5-28d9e864d336",
   "metadata": {},
   "outputs": [],
   "source": [
    "for df in [train,test]:\n",
    "    df.drop(['person_prefer_f',\n",
    "             'person_prefer_g'\n",
    "             #'h_m_match_yn',\n",
    "             #'person_attribute_a'\n",
    "             #'person_prefer_e',\n",
    "             #'contents_attribute_c'\n",
    "            ],axis=1,inplace=True)"
   ]
  },
  {
   "cell_type": "code",
   "execution_count": 61,
   "id": "b258ad6c-92b8-45be-8bcb-580f12237e10",
   "metadata": {},
   "outputs": [],
   "source": [
    "#train = pd.get_dummies(train, columns=['person_attribute_a_1', 'person_attribute_b','person_prefer_c','person_prefer_e','contents_attribute_i','contents_attribute_j_1','contents_attribute_c','contents_attribute_m','contents_attribute_e'])\n",
    "#test = pd.get_dummies(test, columns=['person_attribute_a_1', 'person_attribute_b','person_prefer_c','person_prefer_e','contents_attribute_i','contents_attribute_j_1','contents_attribute_c','contents_attribute_m','contents_attribute_e'])\n",
    "\n",
    "#train = pd.get_dummies(train, columns=['contents_attribute_d'])\n",
    "#test = pd.get_dummies(test, columns=['contents_attribute_d'])"
   ]
  },
  {
   "cell_type": "code",
   "execution_count": 62,
   "id": "d53fe4d5-3fa8-45ea-a13a-c99d641f3379",
   "metadata": {},
   "outputs": [],
   "source": [
    "y = train['target']\n",
    "X = train.drop(['id','target','contents_open_dt'],axis = 1)\n",
    "#X.columns = np.arange(X.shape[1])\n",
    "\n",
    "#X_train, X_test, y_train, y_test = train_test_split(X, y, test_size=0.2,shuffle=False)\n",
    "\n",
    "#X_train.columns = np.arange(X_train.shape[1])\n",
    "\n",
    "cv_data = lgbm.Dataset(X, label = y)\n",
    "\n",
    "train_ = train[pd.DatetimeIndex(train['contents_open_dt']).month != 11]\n",
    "val = train[pd.DatetimeIndex(train['contents_open_dt']).month == 11]\n",
    "\n",
    "y_train = train_['target']\n",
    "X_train = train_.drop(['id','target','contents_open_dt'],axis = 1)\n",
    "\n",
    "y_test = val['target']\n",
    "X_test = val.drop(['id','target','contents_open_dt'],axis = 1)"
   ]
  },
  {
   "cell_type": "code",
   "execution_count": 63,
   "id": "0f759007-c395-4592-909d-b9d1755ac106",
   "metadata": {},
   "outputs": [],
   "source": [
    "from optuna.integration import LightGBMPruningCallback\n",
    "\n",
    "def objective(trial, X, y):\n",
    "    param_grid = {\n",
    "        # \"device_type\": trial.suggest_categorical(\"device_type\", ['gpu']),\n",
    "        \"learning_rate\": trial.suggest_float(\"learning_rate\", 0.1, 0.95, step=0.1),\n",
    "        \"num_leaves\": trial.suggest_int(\"num_leaves\", 5, 100, step=5),\n",
    "        \"max_depth\": trial.suggest_int(\"max_depth\", 1, 30, step=3),\n",
    "        \"min_data_in_leaf\": trial.suggest_int(\"min_data_in_leaf\", 50, 1000, step=50),\n",
    "        \"lambda_l1\": trial.suggest_int(\"lambda_l1\", 0, 100, step=5),\n",
    "        \"lambda_l2\": trial.suggest_int(\"lambda_l2\", 0, 100, step=5),\n",
    "        \"min_gain_to_split\": trial.suggest_float(\"min_gain_to_split\", 1, 30, step=3),\n",
    "        \"bagging_fraction\": trial.suggest_float(\"bagging_fraction\", 0.1, 0.99, step=0.1),\n",
    "        \"bagging_freq\": trial.suggest_categorical(\"bagging_freq\",[1]),\n",
    "        \"feature_fraction\": trial.suggest_float(\"feature_fraction\", 0.1, 0.99, step=0.1),\n",
    "        \"n_estimators\": trial.suggest_int(\"n_estimators\", 10, 2000, step=10),\n",
    "    }\n",
    "\n",
    "    cv = StratifiedKFold(n_splits=5, shuffle=False)\n",
    "\n",
    "    cv_scores = np.empty(5)\n",
    "    \n",
    "    for idx, (train_idx, test_idx) in enumerate(cv.split(X, y)):\n",
    "        X_train, X_test = X.iloc[train_idx], X.iloc[test_idx]\n",
    "        y_train, y_test = y[train_idx], y[test_idx]\n",
    "\n",
    "        model = lgbm.LGBMClassifier(objective=\"binary\", **param_grid)\n",
    "        model.fit(\n",
    "            X_train,\n",
    "            y_train,\n",
    "            eval_set=[(X_test, y_test)],\n",
    "            eval_metric=\"binary_logloss\",\n",
    "            early_stopping_rounds=100,\n",
    "            callbacks=[\n",
    "                LightGBMPruningCallback(trial, \"binary_logloss\")\n",
    "            ],  # Add a pruning callback\n",
    "        )\n",
    "        preds = model.predict_proba(X_test)\n",
    "        cv_scores[idx] = log_loss(y_test, preds)\n",
    "\n",
    "    #return np.mean(f1_scores)\n",
    "    return np.mean(cv_scores)"
   ]
  },
  {
   "cell_type": "code",
   "execution_count": null,
   "id": "74bafd6d-3699-4276-a031-14c22b8daa28",
   "metadata": {},
   "outputs": [],
   "source": [
    "study = optuna.create_study(direction=\"minimize\", study_name=\"LGBM Classifier\")\n",
    "func = lambda trial: objective(trial, X, y)\n",
    "study.optimize(func, n_trials=20)"
   ]
  },
  {
   "cell_type": "code",
   "execution_count": 65,
   "id": "73b725ce-f8e2-4519-afe0-20648d1590b8",
   "metadata": {},
   "outputs": [
    {
     "name": "stdout",
     "output_type": "stream",
     "text": [
      "\tBest value : 0.75657\n",
      "\tBest params:\n",
      "\t\tlearning_rate: 0.5\n",
      "\t\tnum_leaves: 30\n",
      "\t\tmax_depth: 22\n",
      "\t\tmin_data_in_leaf: 300\n",
      "\t\tlambda_l1: 45\n",
      "\t\tlambda_l2: 80\n",
      "\t\tmin_gain_to_split: 1.0\n",
      "\t\tbagging_fraction: 0.2\n",
      "\t\tbagging_freq: 1\n",
      "\t\tfeature_fraction: 0.5\n",
      "\t\tn_estimators: 1160\n"
     ]
    }
   ],
   "source": [
    "print(f\"\\tBest value : {study.best_value:.5f}\")\n",
    "print(f\"\\tBest params:\")\n",
    "\n",
    "for key, value in study.best_params.items():\n",
    "    print(f\"\\t\\t{key}: {value}\")"
   ]
  },
  {
   "cell_type": "code",
   "execution_count": 66,
   "id": "927237fa-b1be-4410-9dcb-b5ca6b33dd8f",
   "metadata": {},
   "outputs": [
    {
     "data": {
      "text/plain": [
       "0.61948170334679"
      ]
     },
     "execution_count": 66,
     "metadata": {},
     "output_type": "execute_result"
    }
   ],
   "source": [
    "model = lgbm.LGBMClassifier(objective=\"binary\", **study.best_params)\n",
    "model.fit(\n",
    "    X_train,\n",
    "    y_train\n",
    ")\n",
    "\n",
    "pred = model.predict(X_test)\n",
    "f1_score(y_test, pred)"
   ]
  },
  {
   "cell_type": "code",
   "execution_count": 53,
   "id": "e1ade3f2-16e6-4aa9-a769-ec9da6862dcf",
   "metadata": {},
   "outputs": [
    {
     "data": {
      "image/png": "[encoded data removed]",
      "text/plain": [
       "<Figure size 1440x720 with 1 Axes>"
      ]
     },
     "metadata": {
      "needs_background": "light"
     },
     "output_type": "display_data"
    },
    {
     "data": {
      "text/plain": [
       "<Figure size 432x288 with 0 Axes>"
      ]
     },
     "metadata": {},
     "output_type": "display_data"
    }
   ],
   "source": [
    "import matplotlib.pyplot as plt\n",
    "import seaborn as sns\n",
    "import warnings\n",
    "warnings.simplefilter(action='ignore', category=FutureWarning)\n",
    "\n",
    "# sorted(zip(clf.feature_importances_, X.columns), reverse=True)\n",
    "feature_imp = pd.DataFrame(sorted(zip(model.feature_importances_,X.columns)), columns=['Value','Feature'])\n",
    "\n",
    "plt.figure(figsize=(20, 10))\n",
    "sns.barplot(x=\"Value\", y=\"Feature\", data=feature_imp.sort_values(by=\"Value\", ascending=False))\n",
    "plt.title('LightGBM Features (avg over folds)')\n",
    "plt.tight_layout()\n",
    "plt.show()\n",
    "plt.savefig('lgbm_importances-01.png')"
   ]
  },
  {
   "cell_type": "code",
   "execution_count": 42,
   "id": "9142ef25-2fd4-4613-94c7-38aa106d46ad",
   "metadata": {},
   "outputs": [],
   "source": [
    "param = study.best_params\n",
    "param['objective'] = \"binary\"\n",
    "param['verbosity'] = 0"
   ]
  },
  {
   "cell_type": "code",
   "execution_count": 43,
   "id": "52b5f05d-7f65-4aa2-b540-375ed0d4e85b",
   "metadata": {},
   "outputs": [
    {
     "name": "stdout",
     "output_type": "stream",
     "text": [
      "[LightGBM] [Warning] lambda_l1 is set=65, reg_alpha=0.0 will be ignored. Current value: lambda_l1=65\n",
      "[LightGBM] [Warning] bagging_fraction is set=0.9, subsample=1.0 will be ignored. Current value: bagging_fraction=0.9\n",
      "[LightGBM] [Warning] feature_fraction is set=0.7000000000000001, colsample_bytree=1.0 will be ignored. Current value: feature_fraction=0.7000000000000001\n",
      "[LightGBM] [Warning] min_data_in_leaf is set=650, min_child_samples=20 will be ignored. Current value: min_data_in_leaf=650\n",
      "[LightGBM] [Warning] bagging_freq is set=1, subsample_freq=0 will be ignored. Current value: bagging_freq=1\n",
      "[LightGBM] [Warning] min_gain_to_split is set=1.0, min_split_gain=0.0 will be ignored. Current value: min_gain_to_split=1.0\n",
      "[LightGBM] [Warning] lambda_l2 is set=40, reg_lambda=0.0 will be ignored. Current value: lambda_l2=40\n"
     ]
    },
    {
     "data": {
      "text/plain": [
       "LGBMClassifier(bagging_fraction=0.9, bagging_freq=1,\n",
       "               feature_fraction=0.7000000000000001, lambda_l1=65, lambda_l2=40,\n",
       "               learning_rate=0.9, max_depth=13, min_data_in_leaf=650,\n",
       "               min_gain_to_split=1.0, n_estimators=1350, num_leaves=30,\n",
       "               objective='binary')"
      ]
     },
     "execution_count": 43,
     "metadata": {},
     "output_type": "execute_result"
    }
   ],
   "source": [
    "#model = lgbm.train(param, cv_data)\n",
    "model = lgbm.LGBMClassifier(objective=\"binary\", **study.best_params)\n",
    "model.fit(\n",
    "    X,\n",
    "    y\n",
    ")"
   ]
  },
  {
   "cell_type": "code",
   "execution_count": 35,
   "id": "51248843-7dc3-449d-9a44-9208fc48cc99",
   "metadata": {},
   "outputs": [],
   "source": [
    "pred = model.predict(test.drop(['id','contents_open_dt'],axis = 1))\n",
    "#pred_1 = model.predict_proba(test.drop(['id','contents_open_dt'],axis = 1))"
   ]
  },
  {
   "cell_type": "code",
   "execution_count": 36,
   "id": "fcb2a1df-292d-415f-a2d4-b73f6a5d03f8",
   "metadata": {},
   "outputs": [
    {
     "data": {
      "text/plain": [
       "1    24944\n",
       "0    21460\n",
       "dtype: int64"
      ]
     },
     "execution_count": 36,
     "metadata": {},
     "output_type": "execute_result"
    }
   ],
   "source": [
    "pd.DataFrame(pred).value_counts()"
   ]
  },
  {
   "cell_type": "code",
   "execution_count": 37,
   "id": "d32e4177-ed07-4409-b9a1-afb1836e8a8f",
   "metadata": {},
   "outputs": [],
   "source": [
    "sample['target'] = pred\n",
    "sample.to_csv('sub.csv',index=False)"
   ]
  }
 ],
 "metadata": {
  "kernelspec": {
   "display_name": "default:Python",
   "language": "python",
   "name": "conda-env-default-py"
  },
  "language_info": {
   "codemirror_mode": {
    "name": "ipython",
    "version": 3
   },
   "file_extension": ".py",
   "mimetype": "text/x-python",
   "name": "python",
   "nbconvert_exporter": "python",
   "pygments_lexer": "ipython3",
   "version": "3.9.7"
  }
 },
 "nbformat": 4,
 "nbformat_minor": 5
}
