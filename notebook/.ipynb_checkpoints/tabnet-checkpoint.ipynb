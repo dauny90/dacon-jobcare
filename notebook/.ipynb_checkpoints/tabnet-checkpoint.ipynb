{
 "cells": [
  {
   "cell_type": "code",
   "execution_count": null,
   "id": "0e729581-127c-4e74-a8f0-b0a1bbca221a",
   "metadata": {},
   "outputs": [],
   "source": [
    "pip install -r ../requirements.txt"
   ]
  },
  {
   "cell_type": "code",
   "execution_count": 1,
   "id": "47c2194f-2446-4877-9d68-72c6e3912b81",
   "metadata": {},
   "outputs": [],
   "source": [
    "import numpy as np\n",
    "import pandas as pd\n",
    "import torch\n",
    "\n",
    "from torch import nn\n",
    "from pytorch_tabnet.tab_model  import TabNetClassifier\n",
    "from pytorch_tabnet.metrics import Metric\n",
    "from sklearn.metrics import f1_score\n",
    "from sklearn.preprocessing import LabelEncoder\n",
    "\n",
    "class F1_Score(Metric):\n",
    "    def __init__(self):\n",
    "        self._name = \"f1\"\n",
    "        self._maximize = True\n",
    "\n",
    "    def __call__(self, y_true, y_score):\n",
    "        score = f1_score(y_true, (y_score[:, 1]>0.4)*1)\n",
    "        return score"
   ]
  },
  {
   "cell_type": "code",
   "execution_count": 12,
   "id": "846fcd1a-df6b-4efe-887e-b4fbc9e650aa",
   "metadata": {},
   "outputs": [],
   "source": [
    "def add_code(df_, d_code, h_code, l_code):\n",
    "    df_ = df_.copy()   \n",
    "\n",
    "    # D Code\n",
    "    df_['person_prefer_d_1_n'] = df_['person_prefer_d_1'].apply(lambda x: d_code[x]['속성 D 세분류코드'])\n",
    "    df_['person_prefer_d_1_s'] = df_['person_prefer_d_1'].apply(lambda x: d_code[x]['속성 D 소분류코드'])\n",
    "    df_['person_prefer_d_1_m'] = df_['person_prefer_d_1'].apply(lambda x: d_code[x]['속성 D 중분류코드'])\n",
    "    df_['person_prefer_d_1_l'] = df_['person_prefer_d_1'].apply(lambda x: d_code[x]['속성 D 대분류코드'])\n",
    "\n",
    "    df_['person_prefer_d_2_n'] = df_['person_prefer_d_2'].apply(lambda x: d_code[x]['속성 D 세분류코드'])\n",
    "    df_['person_prefer_d_2_s'] = df_['person_prefer_d_2'].apply(lambda x: d_code[x]['속성 D 소분류코드'])\n",
    "    df_['person_prefer_d_2_m'] = df_['person_prefer_d_2'].apply(lambda x: d_code[x]['속성 D 중분류코드'])\n",
    "    df_['person_prefer_d_2_l'] = df_['person_prefer_d_2'].apply(lambda x: d_code[x]['속성 D 대분류코드'])\n",
    "\n",
    "    df_['person_prefer_d_3_n'] = df_['person_prefer_d_3'].apply(lambda x: d_code[x]['속성 D 세분류코드'])\n",
    "    df_['person_prefer_d_3_s'] = df_['person_prefer_d_3'].apply(lambda x: d_code[x]['속성 D 소분류코드'])\n",
    "    df_['person_prefer_d_3_m'] = df_['person_prefer_d_3'].apply(lambda x: d_code[x]['속성 D 중분류코드'])\n",
    "    df_['person_prefer_d_3_l'] = df_['person_prefer_d_3'].apply(lambda x: d_code[x]['속성 D 대분류코드'])\n",
    "\n",
    "    df_['contents_attribute_d_n'] = df_['contents_attribute_d'].apply(lambda x: d_code[x]['속성 D 세분류코드'])\n",
    "    df_['contents_attribute_d_s'] = df_['contents_attribute_d'].apply(lambda x: d_code[x]['속성 D 소분류코드'])\n",
    "    df_['contents_attribute_d_m'] = df_['contents_attribute_d'].apply(lambda x: d_code[x]['속성 D 중분류코드'])\n",
    "    df_['contents_attribute_d_l'] = df_['contents_attribute_d'].apply(lambda x: d_code[x]['속성 D 대분류코드'])\n",
    "\n",
    "    # H Code\n",
    "    #df_['person_prefer_h_1_u'] = df_['person_prefer_h_1'].apply(lambda x: h_code[x]['속성 H 상위코드'])\n",
    "    #df_['person_prefer_h_2_u'] = df_['person_prefer_h_2'].apply(lambda x: h_code[x]['속성 H 상위코드'])\n",
    "    #df_['person_prefer_h_3_u'] = df_['person_prefer_h_3'].apply(lambda x: h_code[x]['속성 H 상위코드'])\n",
    "    #df_['contents_attribute_h_u'] = df_['contents_attribute_h'].apply(lambda x: h_code[x]['속성 H 상위코드'])\n",
    "    \n",
    "    df_['contents_attribute_h_m'] = df_['contents_attribute_h'].apply(lambda x: h_code[x]['속성 H 중분류코드'])\n",
    "    df_['contents_attribute_h_l'] = df_['contents_attribute_h'].apply(lambda x: h_code[x]['속성 H 대분류코드'])\n",
    "    \n",
    "    df_['person_prefer_h_1_m'] = df_['person_prefer_h_1'].apply(lambda x: h_code[x]['속성 H 중분류코드'])\n",
    "    df_['person_prefer_h_1_l'] = df_['person_prefer_h_1'].apply(lambda x: h_code[x]['속성 H 대분류코드'])\n",
    "\n",
    "    df_['person_prefer_h_2_m'] = df_['person_prefer_h_2'].apply(lambda x: h_code[x]['속성 H 중분류코드'])\n",
    "    df_['person_prefer_h_2_l'] = df_['person_prefer_h_2'].apply(lambda x: h_code[x]['속성 H 대분류코드'])\n",
    "\n",
    "    df_['person_prefer_h_3_m'] = df_['person_prefer_h_3'].apply(lambda x: h_code[x]['속성 H 중분류코드'])\n",
    "    df_['person_prefer_h_3_l'] = df_['person_prefer_h_3'].apply(lambda x: h_code[x]['속성 H 대분류코드'])\n",
    "    \n",
    "    # L Code\n",
    "    df_['contents_attribute_l_n'] = df_['contents_attribute_l'].apply(lambda x: l_code[x]['속성 L 세분류코드'])\n",
    "    df_['contents_attribute_l_s'] = df_['contents_attribute_l'].apply(lambda x: l_code[x]['속성 L 소분류코드'])\n",
    "    df_['contents_attribute_l_m'] = df_['contents_attribute_l'].apply(lambda x: l_code[x]['속성 L 중분류코드'])\n",
    "    df_['contents_attribute_l_l'] = df_['contents_attribute_l'].apply(lambda x: l_code[x]['속성 L 대분류코드'])\n",
    "    return df_"
   ]
  },
  {
   "cell_type": "code",
   "execution_count": 13,
   "id": "fed401fc-0b91-482f-b909-7b3dd4f1a1ce",
   "metadata": {},
   "outputs": [],
   "source": [
    "d_code = pd.read_csv('../data/dcode.csv', index_col=0).T.to_dict()\n",
    "h_code = pd.read_csv('../data/hcode.csv', index_col=0).T.to_dict()\n",
    "l_code = pd.read_csv('../data/lcode.csv', index_col=0).T.to_dict()\n",
    "\n",
    "df_train = pd.read_csv('../data/train.csv')\n",
    "df_test = pd.read_csv('../data/test.csv')\n",
    "\n",
    "train_df = add_code(df_train, d_code, h_code, l_code)\n",
    "test_df = add_code(df_test, d_code, h_code, l_code)\n",
    "\n",
    "#test = test_df.copy()"
   ]
  },
  {
   "cell_type": "code",
   "execution_count": 14,
   "id": "770dced2-75b5-4164-9772-6d67123d65de",
   "metadata": {},
   "outputs": [
    {
     "name": "stderr",
     "output_type": "stream",
     "text": [
      "/home/studio-lab-user/.conda/envs/default/lib/python3.9/site-packages/pandas/core/frame.py:4906: SettingWithCopyWarning: \n",
      "A value is trying to be set on a copy of a slice from a DataFrame\n",
      "\n",
      "See the caveats in the documentation: https://pandas.pydata.org/pandas-docs/stable/user_guide/indexing.html#returning-a-view-versus-a-copy\n",
      "  return super().drop(\n"
     ]
    }
   ],
   "source": [
    "train_df['aux'] = 'train'\n",
    "test_df['aux'] = 'test'\n",
    "test_df['target'] = -1\n",
    "\n",
    "columns = sorted(test_df.columns)\n",
    "train_df = train_df[columns]\n",
    "test_df = test_df[columns]\n",
    "\n",
    "train_df_aux = train_df.append(test_df)\n",
    "\n",
    "train_df_aux['count_person'] = train_df_aux.groupby('person_rn')['person_rn'].transform('count')\n",
    "train_df_aux['count_content'] = train_df_aux.groupby('contents_rn')['contents_rn'].transform('count')\n",
    "train_df_aux['count_person_content'] = train_df_aux.groupby('person_rn')['contents_rn'].transform('count')\n",
    "train_df_aux['count_content_person'] = train_df_aux.groupby('contents_rn')['person_rn'].transform('count')\n",
    "\n",
    "train_ = train_df_aux[train_df_aux['aux'] == 'train']\n",
    "test_ = train_df_aux[train_df_aux['aux'] == 'test']\n",
    "\n",
    "train_.drop(['aux'],axis=1,inplace=True)\n",
    "test_.drop(['aux','target'],axis=1,inplace=True)\n",
    "\n",
    "train = train_.copy()\n",
    "test = test_.copy()"
   ]
  },
  {
   "cell_type": "code",
   "execution_count": 15,
   "id": "ef5d8b6c-2f07-450b-80ef-1d9f31a5c621",
   "metadata": {},
   "outputs": [],
   "source": [
    "#train_df = pd.read_csv('../data/train.csv')\n",
    "#test_df = pd.read_csv('../data/test.csv')\n",
    "sample = pd.read_csv('../data/sample_submission.csv')\n",
    "#test = test_df.copy()"
   ]
  },
  {
   "cell_type": "code",
   "execution_count": 16,
   "id": "3d9bb797-2fed-47de-9c97-9d4ccebf12c0",
   "metadata": {},
   "outputs": [],
   "source": [
    "#train = train_df[train_df['contents_open_dt'].apply(lambda x: pd.Timestamp(x).month)<11].copy()\n",
    "#val = train_df[train_df['contents_open_dt'].apply(lambda x: pd.Timestamp(x).month)==11].copy()\n",
    "#train = train_df\n",
    "\n",
    "for df in [train,test]:\n",
    "    df['contents_open_dt'] = pd.to_datetime(df['contents_open_dt'])"
   ]
  },
  {
   "cell_type": "code",
   "execution_count": 17,
   "id": "b3ffb108-5a4d-41e9-9102-e4bf770aa9b4",
   "metadata": {},
   "outputs": [],
   "source": [
    "for df in [train,test]:\n",
    "    df['contents_open_dt'] = pd.to_datetime(df['contents_open_dt'])\n",
    "\n",
    "for df in [train,test]:\n",
    "    df.drop(['id','person_prefer_f','person_prefer_g','person_rn','contents_rn'],axis=1,inplace=True)\n",
    "    #df.drop(['id','person_prefer_f','person_prefer_g'],axis=1,inplace=True)\n",
    "\n",
    "cat_columns = [col for col in train.columns if 'match' not in col and col not in ['target','contents_open_dt']]"
   ]
  },
  {
   "cell_type": "code",
   "execution_count": 18,
   "id": "13063e96-df56-46e2-b5f4-6aa7dd136aba",
   "metadata": {},
   "outputs": [],
   "source": [
    "for df in [train,test]:\n",
    "    df['dia'] = pd.DatetimeIndex(df['contents_open_dt']).day\n",
    "    df['hora'] = pd.DatetimeIndex(df['contents_open_dt']).hour\n",
    "    df['dayofweek'] = df['contents_open_dt'].dt.dayofweek\n",
    "\n",
    "#cat_columns = [col for col in train.columns if 'match' not in col and col not in ['target','contents_open_dt']]"
   ]
  },
  {
   "cell_type": "code",
   "execution_count": 19,
   "id": "9c89edb9-6210-41c6-9a44-b650d74f679c",
   "metadata": {},
   "outputs": [],
   "source": [
    "train_aux = train\n",
    "train = train_aux[train_aux['contents_open_dt'].apply(lambda x: pd.Timestamp(x).month)<10].copy()\n",
    "val = train_aux[train_aux['contents_open_dt'].apply(lambda x: pd.Timestamp(x).month)>=10].copy()\n",
    "\n",
    "for df in [train,val,test]:\n",
    "    df.drop(['contents_open_dt'],axis=1,inplace=True)\n",
    "\n",
    "columns = sorted(test.columns)\n",
    "train = train[columns+['target']]*1\n",
    "val = val[columns+['target']]*1\n",
    "test = test[columns]*1\n",
    "\n",
    "train_aux = train_aux[columns+['target']]*1"
   ]
  },
  {
   "cell_type": "code",
   "execution_count": 20,
   "id": "5542ee44-0911-41c5-93f6-3ca6ff5dab6f",
   "metadata": {},
   "outputs": [
    {
     "name": "stdout",
     "output_type": "stream",
     "text": [
      "(411367, 64)\n",
      "(90584, 64)\n",
      "(501951, 64)\n",
      "(46404, 63)\n"
     ]
    }
   ],
   "source": [
    "print(train.shape)\n",
    "print(val.shape)\n",
    "print(train_aux.shape)\n",
    "print(test.shape)"
   ]
  },
  {
   "cell_type": "code",
   "execution_count": 21,
   "id": "4510e7ae-f307-47d4-8390-a56b3b949da5",
   "metadata": {},
   "outputs": [],
   "source": [
    "cat_idxs = []\n",
    "cat_dims = []\n",
    "for idx, col in enumerate(train.columns):\n",
    "    if col in cat_columns: \n",
    "        le = LabelEncoder()\n",
    "        le.fit(train_aux[col].values)\n",
    "        le_dict = dict(zip(le.classes_, le.transform(le.classes_)))\n",
    "        \n",
    "        train[col] = train[col].apply(lambda x: le_dict.get(x, len(le_dict)))\n",
    "        val[col] = val[col].apply(lambda x: le_dict.get(x, len(le_dict)))\n",
    "        test[col] = test[col].apply(lambda x: le_dict.get(x, len(le_dict)))\n",
    "        \n",
    "        train_aux[col] = train_aux[col].apply(lambda x: le_dict.get(x, len(le_dict)))\n",
    "        \n",
    "        cat_idxs.append(idx)\n",
    "        cat_dims.append(len(le_dict)+1)\n",
    "\n",
    "X_train = train.drop('target',axis=1).values\n",
    "y_train = train['target'].values\n",
    "X_val = val.drop('target',axis=1).values\n",
    "y_val = val['target'].values\n",
    "X_test = test.values\n",
    "eval_set = (X_val,y_val)\n",
    "\n",
    "X_train_full = train_aux.drop('target',axis=1).values\n",
    "y_train_full = train_aux['target'].values"
   ]
  },
  {
   "cell_type": "code",
   "execution_count": 39,
   "id": "8002b4d9-747a-429b-ba54-87cbfda77f1d",
   "metadata": {},
   "outputs": [
    {
     "name": "stdout",
     "output_type": "stream",
     "text": [
      "Device used : cuda\n"
     ]
    }
   ],
   "source": [
    "clf = TabNetClassifier(seed = 1990,\n",
    "                       n_steps=4,\n",
    "                       cat_idxs=cat_idxs,\n",
    "                       cat_dims=cat_dims,\n",
    "                       cat_emb_dim=3,\n",
    "                       optimizer_fn=torch.optim.AdamW, # Any optimizer works here\n",
    "                       mask_type='entmax', # \"sparsemax\",entmax\n",
    "                      )"
   ]
  },
  {
   "cell_type": "code",
   "execution_count": null,
   "id": "d901127e-3832-4f4f-9916-bf6e27185384",
   "metadata": {},
   "outputs": [
    {
     "name": "stdout",
     "output_type": "stream",
     "text": [
      "epoch 0  | loss: 0.67443 | train_logloss: 0.64985 | train_f1: 0.67561 | val_logloss: 0.65263 | val_f1: 0.666   |  0:03:07s\n",
      "epoch 1  | loss: 0.64545 | train_logloss: 0.63668 | train_f1: 0.69443 | val_logloss: 0.64301 | val_f1: 0.68275 |  0:06:17s\n",
      "epoch 2  | loss: 0.63725 | train_logloss: 0.62853 | train_f1: 0.69888 | val_logloss: 0.63953 | val_f1: 0.68544 |  0:09:25s\n",
      "epoch 3  | loss: 0.63444 | train_logloss: 0.62784 | train_f1: 0.70202 | val_logloss: 0.63956 | val_f1: 0.68696 |  0:12:33s\n",
      "epoch 4  | loss: 0.63231 | train_logloss: 0.62732 | train_f1: 0.70187 | val_logloss: 0.6408  | val_f1: 0.68425 |  0:15:41s\n",
      "epoch 5  | loss: 0.6307  | train_logloss: 0.62235 | train_f1: 0.7006  | val_logloss: 0.64289 | val_f1: 0.68061 |  0:18:50s\n",
      "epoch 13 | loss: 0.62718 | train_logloss: 0.6188  | train_f1: 0.70742 | val_logloss: 0.63777 | val_f1: 0.68452 |  0:43:56s\n",
      "epoch 14 | loss: 0.62711 | train_logloss: 0.62012 | train_f1: 0.70424 | val_logloss: 0.64114 | val_f1: 0.68358 |  0:47:01s\n",
      "epoch 20 | loss: 0.62633 | train_logloss: 0.61883 | train_f1: 0.70735 | val_logloss: 0.63961 | val_f1: 0.68423 |  1:05:48s\n",
      "epoch 21 | loss: 0.62632 | train_logloss: 0.62151 | train_f1: 0.70669 | val_logloss: 0.64115 | val_f1: 0.68411 |  1:08:55s\n",
      "epoch 22 | loss: 0.62701 | train_logloss: 0.61684 | train_f1: 0.70652 | val_logloss: 0.64134 | val_f1: 0.68382 |  1:12:02s\n",
      "epoch 23 | loss: 0.62633 | train_logloss: 0.61583 | train_f1: 0.70375 | val_logloss: 0.63956 | val_f1: 0.67768 |  1:15:08s\n",
      "epoch 24 | loss: 0.62608 | train_logloss: 0.62288 | train_f1: 0.70746 | val_logloss: 0.6399  | val_f1: 0.68677 |  1:18:16s\n",
      "epoch 27 | loss: 0.62615 | train_logloss: 0.62517 | train_f1: 0.69171 | val_logloss: 0.64906 | val_f1: 0.66197 |  1:27:34s\n"
     ]
    }
   ],
   "source": [
    "clf.fit(\n",
    "    X_train=X_train, y_train=y_train,\n",
    "    eval_set=[(X_train, y_train), (X_val, y_val)],\n",
    "    eval_name=['train', 'val'],\n",
    "    eval_metric=['logloss','f1'],\n",
    "    max_epochs=200 , patience=30,\n",
    "    batch_size=256,\n",
    "    virtual_batch_size=128,\n",
    "    num_workers=1,\n",
    "    drop_last=False,\n",
    "\n",
    ")"
   ]
  },
  {
   "cell_type": "code",
   "execution_count": 36,
   "id": "2e80b428-6374-4e71-934f-822638f9a79b",
   "metadata": {},
   "outputs": [],
   "source": [
    "preds = clf.predict_proba(X_val)"
   ]
  },
  {
   "cell_type": "code",
   "execution_count": 25,
   "id": "68445d23-a47d-4418-8f46-fe5a017cc55d",
   "metadata": {},
   "outputs": [
    {
     "name": "stdout",
     "output_type": "stream",
     "text": [
      "0.6745015325786775\n",
      "0.6790874641855881\n",
      "0.6831755509290175\n",
      "0.6875242970066087\n",
      "0.689239889900487\n",
      "0.6496530857113048\n"
     ]
    }
   ],
   "source": [
    "print(f1_score(y_val, (preds[:, 1]>0.2)*1))\n",
    "print(f1_score(y_val, (preds[:, 1]>0.25)*1))\n",
    "print(f1_score(y_val, (preds[:, 1]>0.3)*1))\n",
    "print(f1_score(y_val, (preds[:, 1]>0.35)*1))\n",
    "print(f1_score(y_val, (preds[:, 1]>0.4)*1))\n",
    "print(f1_score(y_val, (preds[:, 1]>0.5)*1))"
   ]
  },
  {
   "cell_type": "code",
   "execution_count": 37,
   "id": "fee2e8af-16ac-4801-b037-b939b2ea2094",
   "metadata": {},
   "outputs": [
    {
     "name": "stdout",
     "output_type": "stream",
     "text": [
      "0.6789866885048323\n",
      "0.6823740497662779\n",
      "0.6845401993462473\n",
      "0.6860309573858206\n",
      "0.6840804677711264\n",
      "0.6535475865746486\n"
     ]
    }
   ],
   "source": [
    "print(f1_score(y_val, (preds[:, 1]>0.2)*1))\n",
    "print(f1_score(y_val, (preds[:, 1]>0.25)*1))\n",
    "print(f1_score(y_val, (preds[:, 1]>0.3)*1))\n",
    "print(f1_score(y_val, (preds[:, 1]>0.35)*1))\n",
    "print(f1_score(y_val, (preds[:, 1]>0.4)*1))\n",
    "print(f1_score(y_val, (preds[:, 1]>0.5)*1))"
   ]
  },
  {
   "cell_type": "code",
   "execution_count": null,
   "id": "dbfa7295-34f7-489c-adf7-b154cafd776e",
   "metadata": {},
   "outputs": [],
   "source": [
    "clf.fit(\n",
    "    X_train=X_train_full, \n",
    "    y_train=y_train_full,\n",
    "    max_epochs=20,\n",
    "    batch_size=256,\n",
    "    patience=10,\n",
    "    virtual_batch_size=128,\n",
    "    num_workers=1,\n",
    "    drop_last=False,\n",
    "\n",
    ")"
   ]
  },
  {
   "cell_type": "code",
   "execution_count": 26,
   "id": "e3912a5b-9b35-4d26-838e-f3ca2173ec6b",
   "metadata": {},
   "outputs": [],
   "source": [
    "preds = clf.predict_proba(X_test)\n",
    "preds = (preds[:,1]>0.4)*1"
   ]
  },
  {
   "cell_type": "code",
   "execution_count": 27,
   "id": "245a31e3-0d13-4f23-a870-1ac5e5ce46e6",
   "metadata": {},
   "outputs": [],
   "source": [
    "sample['target'] = preds\n",
    "sample.to_csv('sub_tabnet_26.csv',index=False)"
   ]
  },
  {
   "cell_type": "code",
   "execution_count": 28,
   "id": "764a8439-30ac-47f6-b0c2-ea769d59ce97",
   "metadata": {},
   "outputs": [],
   "source": [
    "sub1 = pd.read_csv('sub_tabnet_26.csv')\n",
    "sub2 = pd.read_csv('sub_tabnet_23.csv')\n",
    "sub3 = pd.read_csv('sub_tabnet_25.csv')\n",
    "#sub4 = pd.read_csv('sub_tabnet_10.csv')\n",
    "#sub5 = pd.read_csv('sub_tabnet_9.csv')"
   ]
  },
  {
   "cell_type": "code",
   "execution_count": 29,
   "id": "0e0f04ce-b045-46e4-9b8a-8a2e4cdf0856",
   "metadata": {},
   "outputs": [],
   "source": [
    "sub1['target_final'] = round((sub1['target'] + sub2['target'] + sub3['target'])/3,0).astype(int)"
   ]
  },
  {
   "cell_type": "code",
   "execution_count": 30,
   "id": "8e1a9427-39a5-4578-aa63-c06ed1686735",
   "metadata": {},
   "outputs": [
    {
     "data": {
      "text/html": [
       "<div>\n",
       "<style scoped>\n",
       "    .dataframe tbody tr th:only-of-type {\n",
       "        vertical-align: middle;\n",
       "    }\n",
       "\n",
       "    .dataframe tbody tr th {\n",
       "        vertical-align: top;\n",
       "    }\n",
       "\n",
       "    .dataframe thead th {\n",
       "        text-align: right;\n",
       "    }\n",
       "</style>\n",
       "<table border=\"1\" class=\"dataframe\">\n",
       "  <thead>\n",
       "    <tr style=\"text-align: right;\">\n",
       "      <th></th>\n",
       "      <th>id</th>\n",
       "      <th>target</th>\n",
       "      <th>target_final</th>\n",
       "    </tr>\n",
       "  </thead>\n",
       "  <tbody>\n",
       "    <tr>\n",
       "      <th>0</th>\n",
       "      <td>0</td>\n",
       "      <td>0</td>\n",
       "      <td>0</td>\n",
       "    </tr>\n",
       "    <tr>\n",
       "      <th>1</th>\n",
       "      <td>1</td>\n",
       "      <td>0</td>\n",
       "      <td>0</td>\n",
       "    </tr>\n",
       "    <tr>\n",
       "      <th>2</th>\n",
       "      <td>2</td>\n",
       "      <td>0</td>\n",
       "      <td>1</td>\n",
       "    </tr>\n",
       "    <tr>\n",
       "      <th>3</th>\n",
       "      <td>3</td>\n",
       "      <td>0</td>\n",
       "      <td>1</td>\n",
       "    </tr>\n",
       "    <tr>\n",
       "      <th>4</th>\n",
       "      <td>4</td>\n",
       "      <td>1</td>\n",
       "      <td>1</td>\n",
       "    </tr>\n",
       "    <tr>\n",
       "      <th>...</th>\n",
       "      <td>...</td>\n",
       "      <td>...</td>\n",
       "      <td>...</td>\n",
       "    </tr>\n",
       "    <tr>\n",
       "      <th>46399</th>\n",
       "      <td>46399</td>\n",
       "      <td>1</td>\n",
       "      <td>1</td>\n",
       "    </tr>\n",
       "    <tr>\n",
       "      <th>46400</th>\n",
       "      <td>46400</td>\n",
       "      <td>1</td>\n",
       "      <td>1</td>\n",
       "    </tr>\n",
       "    <tr>\n",
       "      <th>46401</th>\n",
       "      <td>46401</td>\n",
       "      <td>1</td>\n",
       "      <td>1</td>\n",
       "    </tr>\n",
       "    <tr>\n",
       "      <th>46402</th>\n",
       "      <td>46402</td>\n",
       "      <td>1</td>\n",
       "      <td>1</td>\n",
       "    </tr>\n",
       "    <tr>\n",
       "      <th>46403</th>\n",
       "      <td>46403</td>\n",
       "      <td>1</td>\n",
       "      <td>1</td>\n",
       "    </tr>\n",
       "  </tbody>\n",
       "</table>\n",
       "<p>46404 rows × 3 columns</p>\n",
       "</div>"
      ],
      "text/plain": [
       "          id  target  target_final\n",
       "0          0       0             0\n",
       "1          1       0             0\n",
       "2          2       0             1\n",
       "3          3       0             1\n",
       "4          4       1             1\n",
       "...      ...     ...           ...\n",
       "46399  46399       1             1\n",
       "46400  46400       1             1\n",
       "46401  46401       1             1\n",
       "46402  46402       1             1\n",
       "46403  46403       1             1\n",
       "\n",
       "[46404 rows x 3 columns]"
      ]
     },
     "execution_count": 30,
     "metadata": {},
     "output_type": "execute_result"
    }
   ],
   "source": [
    "sub1"
   ]
  },
  {
   "cell_type": "code",
   "execution_count": 31,
   "id": "9d34c952-07b7-4848-a258-23ff5dc02642",
   "metadata": {},
   "outputs": [],
   "source": [
    "sub1.drop(['target'],axis = 1,inplace = True)"
   ]
  },
  {
   "cell_type": "code",
   "execution_count": 32,
   "id": "e8cdf127-8b44-47e9-86fe-b71d592a7b87",
   "metadata": {},
   "outputs": [
    {
     "data": {
      "text/html": [
       "<div>\n",
       "<style scoped>\n",
       "    .dataframe tbody tr th:only-of-type {\n",
       "        vertical-align: middle;\n",
       "    }\n",
       "\n",
       "    .dataframe tbody tr th {\n",
       "        vertical-align: top;\n",
       "    }\n",
       "\n",
       "    .dataframe thead th {\n",
       "        text-align: right;\n",
       "    }\n",
       "</style>\n",
       "<table border=\"1\" class=\"dataframe\">\n",
       "  <thead>\n",
       "    <tr style=\"text-align: right;\">\n",
       "      <th></th>\n",
       "      <th>id</th>\n",
       "      <th>target_final</th>\n",
       "    </tr>\n",
       "  </thead>\n",
       "  <tbody>\n",
       "    <tr>\n",
       "      <th>0</th>\n",
       "      <td>0</td>\n",
       "      <td>0</td>\n",
       "    </tr>\n",
       "    <tr>\n",
       "      <th>1</th>\n",
       "      <td>1</td>\n",
       "      <td>0</td>\n",
       "    </tr>\n",
       "    <tr>\n",
       "      <th>2</th>\n",
       "      <td>2</td>\n",
       "      <td>1</td>\n",
       "    </tr>\n",
       "    <tr>\n",
       "      <th>3</th>\n",
       "      <td>3</td>\n",
       "      <td>1</td>\n",
       "    </tr>\n",
       "    <tr>\n",
       "      <th>4</th>\n",
       "      <td>4</td>\n",
       "      <td>1</td>\n",
       "    </tr>\n",
       "    <tr>\n",
       "      <th>...</th>\n",
       "      <td>...</td>\n",
       "      <td>...</td>\n",
       "    </tr>\n",
       "    <tr>\n",
       "      <th>46399</th>\n",
       "      <td>46399</td>\n",
       "      <td>1</td>\n",
       "    </tr>\n",
       "    <tr>\n",
       "      <th>46400</th>\n",
       "      <td>46400</td>\n",
       "      <td>1</td>\n",
       "    </tr>\n",
       "    <tr>\n",
       "      <th>46401</th>\n",
       "      <td>46401</td>\n",
       "      <td>1</td>\n",
       "    </tr>\n",
       "    <tr>\n",
       "      <th>46402</th>\n",
       "      <td>46402</td>\n",
       "      <td>1</td>\n",
       "    </tr>\n",
       "    <tr>\n",
       "      <th>46403</th>\n",
       "      <td>46403</td>\n",
       "      <td>1</td>\n",
       "    </tr>\n",
       "  </tbody>\n",
       "</table>\n",
       "<p>46404 rows × 2 columns</p>\n",
       "</div>"
      ],
      "text/plain": [
       "          id  target_final\n",
       "0          0             0\n",
       "1          1             0\n",
       "2          2             1\n",
       "3          3             1\n",
       "4          4             1\n",
       "...      ...           ...\n",
       "46399  46399             1\n",
       "46400  46400             1\n",
       "46401  46401             1\n",
       "46402  46402             1\n",
       "46403  46403             1\n",
       "\n",
       "[46404 rows x 2 columns]"
      ]
     },
     "execution_count": 32,
     "metadata": {},
     "output_type": "execute_result"
    }
   ],
   "source": [
    "sub1"
   ]
  },
  {
   "cell_type": "code",
   "execution_count": 33,
   "id": "08bc1ed0-19f4-42ab-93dd-e7af18db0177",
   "metadata": {},
   "outputs": [],
   "source": [
    "sub1.columns = ['id','target']"
   ]
  },
  {
   "cell_type": "code",
   "execution_count": 34,
   "id": "8b4ef581-308f-4dd2-a8b3-c6b44c1b56df",
   "metadata": {},
   "outputs": [],
   "source": [
    "sub1.to_csv('sub_tabnet_27.csv',index=False)"
   ]
  }
 ],
 "metadata": {
  "kernelspec": {
   "display_name": "default:Python",
   "language": "python",
   "name": "conda-env-default-py"
  },
  "language_info": {
   "codemirror_mode": {
    "name": "ipython",
    "version": 3
   },
   "file_extension": ".py",
   "mimetype": "text/x-python",
   "name": "python",
   "nbconvert_exporter": "python",
   "pygments_lexer": "ipython3",
   "version": "3.9.7"
  }
 },
 "nbformat": 4,
 "nbformat_minor": 5
}
